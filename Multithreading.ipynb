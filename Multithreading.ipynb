{
 "cells": [
  {
   "cell_type": "markdown",
   "id": "1263ca91-2739-4a89-9155-7c9d1afe43b4",
   "metadata": {},
   "source": [
    "Q1. What is multithreading in python? Why is it used? Name the module used to handle threads in python."
   ]
  },
  {
   "cell_type": "markdown",
   "id": "508d8737-4203-4b1f-b3a6-d728f0b2e8ab",
   "metadata": {},
   "source": [
    "Multithreading in Python is a technique where multiple threads are spawned by a process to run Simultaneously. These threads share the same memory space and can execute tasks simultaneously, which can be useful for i/0 tasks\n",
    "\n",
    "1)To improve the performance of i/o tasks to work in simultaneously\n",
    "2)To make programs more efficient \n",
    "3)To simplify the design of multiple tasks at once\n",
    "\n",
    "Threading is the module used to handle threads in python"
   ]
  },
  {
   "cell_type": "markdown",
   "id": "789b9c16-4b98-41b0-b6bd-3a5ebfc75956",
   "metadata": {},
   "source": [
    " Q2. Why threading module used? Write the use of the following functions\n",
    " activeCount()\n",
    " currentThread()\n",
    " enumerate()"
   ]
  },
  {
   "cell_type": "markdown",
   "id": "3eb07b4c-c8be-4bd3-b24b-8caea325dba8",
   "metadata": {},
   "source": [
    "threading module in Python is used to create, control, and manage threads within a program. It simplifies the implementation of multithreading, allowing developers to efficiently perform tasks concurrently\n",
    "\n",
    "activeCount():\n",
    "Returns the number of currently active threads, including the main thread and all active threads in the program.\n",
    "\n",
    "currentThread():\n",
    "Returns the Thread object representing the current thread of execution.\n",
    "\n",
    "enumerate():\n",
    "Returns a list of all active Thread objects in the current program."
   ]
  },
  {
   "cell_type": "markdown",
   "id": "a42a0153-c292-4c23-a695-81116105b420",
   "metadata": {},
   "source": [
    "Q3. Explain the following functions\n",
    " run()\n",
    " start()\n",
    " join()\n",
    " isAlive()"
   ]
  },
  {
   "cell_type": "markdown",
   "id": "8369c407-d957-4bf2-a1ec-514c83f7f091",
   "metadata": {},
   "source": [
    "run():\n",
    "This method defines the code that a thread will execute when started. You typically override the run() method in a subclass of Thread if you want to define a custom behavior for a thread\n",
    "\n",
    "start():\n",
    "This method begins the thread's activity. It arranges for the thread's run() method to be invoked in a separate thread of control. This method can only be called once per thread object; otherwise, it will raise a RuntimeError.\n",
    "\n",
    "join():\n",
    "This method blocks the calling thread until the thread whose join() method is called terminates. It is often used to ensure that a thread has completed its execution before proceeding with the next part of a program.\n",
    "\n",
    "isAlive():\n",
    "This method checks whether a thread is still running .It returns True if the thread is alive, and False otherwise. "
   ]
  },
  {
   "cell_type": "code",
   "execution_count": 4,
   "id": "9cd74549-8cf3-48ce-9e97-3c8e19f244e7",
   "metadata": {},
   "outputs": [
    {
     "name": "stdout",
     "output_type": "stream",
     "text": [
      "[1, 4, 9, 16, 25]\n",
      "[1, 8, 27, 64, 125]\n"
     ]
    }
   ],
   "source": [
    "import threading\n",
    "\n",
    "def print_squares():\n",
    "    print([i**2 for i  in range(1,6)])\n",
    "\n",
    "def print_cubes():\n",
    "    print([i**3 for i in range(1,6)])\n",
    "    \n",
    "thread1 = threading.Thread(target=print_squares)\n",
    "thread2 = threading.Thread(target=print_cubes)\n",
    "\n",
    "thread1.start()\n",
    "thread2.start()\n",
    "\n",
    "thread1.join()\n",
    "thread2.join()"
   ]
  },
  {
   "cell_type": "markdown",
   "id": "9b589276-756f-4d94-9310-df181075f583",
   "metadata": {},
   "source": [
    "Q5. State advantages and disadvantages of multithreading\n"
   ]
  },
  {
   "cell_type": "markdown",
   "id": "0dc9e350-9e0b-493e-9e4e-2eb9543faea4",
   "metadata": {},
   "source": [
    "Advantages of muktithreading \n",
    "1) improved performance of i/o bound tasks2\n",
    "2) Responsivness\n",
    "3) Resource sharing\n",
    "4) simplefied program structure\n",
    "\n",
    "Disadvantages of multithreading\n",
    "1) complexity\n",
    "2) overhead\n",
    "3) global interpreter look in python"
   ]
  },
  {
   "cell_type": "markdown",
   "id": "3ec4a08e-a33b-4fdb-94ac-902d8b73e0bb",
   "metadata": {},
   "source": [
    "Q6. Explain deadlocks and race conditions"
   ]
  },
  {
   "cell_type": "code",
   "execution_count": null,
   "id": "f02307db-155d-4cb3-b632-5c89a83f3b65",
   "metadata": {},
   "outputs": [],
   "source": []
  }
 ],
 "metadata": {
  "kernelspec": {
   "display_name": "Python 3 (ipykernel)",
   "language": "python",
   "name": "python3"
  },
  "language_info": {
   "codemirror_mode": {
    "name": "ipython",
    "version": 3
   },
   "file_extension": ".py",
   "mimetype": "text/x-python",
   "name": "python",
   "nbconvert_exporter": "python",
   "pygments_lexer": "ipython3",
   "version": "3.10.8"
  }
 },
 "nbformat": 4,
 "nbformat_minor": 5
}
